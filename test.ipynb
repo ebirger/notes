{
  "nbformat": 4,
  "nbformat_minor": 0,
  "metadata": {
    "colab": {
      "name": "Untitled0.ipynb",
      "version": "0.3.2",
      "provenance": [],
      "collapsed_sections": []
    }
  },
  "cells": [
    {
      "cell_type": "markdown",
      "metadata": {
        "id": "view-in-github",
        "colab_type": "text"
      },
      "source": [
        "[View in Colaboratory](https://colab.research.google.com/github/ebirger/notes/blob/master/test.ipynb)"
      ]
    },
    {
      "metadata": {
        "id": "44oVHIrYqlMk",
        "colab_type": "code",
        "colab": {}
      },
      "cell_type": "code",
      "source": [
        ""
      ],
      "execution_count": 0,
      "outputs": []
    },
    {
      "metadata": {
        "id": "ub42CA1sq0Ee",
        "colab_type": "text"
      },
      "cell_type": "markdown",
      "source": [
        ""
      ]
    },
    {
      "metadata": {
        "id": "mvxHUid-q0a1",
        "colab_type": "code",
        "colab": {}
      },
      "cell_type": "code",
      "source": [
        ""
      ],
      "execution_count": 0,
      "outputs": []
    },
    {
      "metadata": {
        "id": "heEpqSoWyAuV",
        "colab_type": "text"
      },
      "cell_type": "markdown",
      "source": [
        "![test](https://chart.googleapis.com/chart?cht=gv&chl=digraph{A->B->C;D->B}&chs=150x150d)"
      ]
    },
    {
      "metadata": {
        "id": "u7-HNqhGyn5z",
        "colab_type": "text"
      },
      "cell_type": "markdown",
      "source": [
        "$e^{i\\pi} + 1 = 0$"
      ]
    }
  ]
}